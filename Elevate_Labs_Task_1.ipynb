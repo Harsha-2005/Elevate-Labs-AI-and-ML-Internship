{
  "nbformat": 4,
  "nbformat_minor": 0,
  "metadata": {
    "colab": {
      "provenance": [],
      "authorship_tag": "ABX9TyOrC7ZW/SBl/chDsNFkSYyK",
      "include_colab_link": true
    },
    "kernelspec": {
      "name": "python3",
      "display_name": "Python 3"
    },
    "language_info": {
      "name": "python"
    }
  },
  "cells": [
    {
      "cell_type": "markdown",
      "metadata": {
        "id": "view-in-github",
        "colab_type": "text"
      },
      "source": [
        "<a href=\"https://colab.research.google.com/github/Harsha-2005/Elevate-Labs-AI-and-ML-Internship/blob/main/Elevate_Labs_Task_1.ipynb\" target=\"_parent\"><img src=\"https://colab.research.google.com/assets/colab-badge.svg\" alt=\"Open In Colab\"/></a>"
      ]
    },
    {
      "cell_type": "markdown",
      "source": [
        "Firstly we are importing the libraries that are required to complete the Task-1\n",
        "\n",
        "Libraries used:\n",
        "1.Numpy -> Handling and processing the numerical data efficiently\n",
        "2.Pandas -> It is used for data manipulation and analysis\n",
        "3.Matplot -> creating visualizations,turning the data into various types of charts and graphs\n",
        "4.Seaborn -> creating attractive and informative statistical graphics in python"
      ],
      "metadata": {
        "id": "YdRRPWXpWP3s"
      }
    },
    {
      "cell_type": "code",
      "execution_count": 54,
      "metadata": {
        "id": "FWRZ0NKJVSbg"
      },
      "outputs": [],
      "source": [
        "import numpy as np\n",
        "import pandas as pd\n",
        "import matplotlib.pyplot as plt\n",
        "import seaborn as sns\n",
        "from sklearn.preprocessing import StandardScaler"
      ]
    },
    {
      "cell_type": "markdown",
      "source": [
        "We are reading the data set using the pandas library\n",
        ""
      ],
      "metadata": {
        "id": "4krtL23rX3Pm"
      }
    },
    {
      "cell_type": "code",
      "source": [
        "df=pd.read_csv(\"Titanic-Dataset.csv\")"
      ],
      "metadata": {
        "id": "pHs7RLU3VkXa"
      },
      "execution_count": 55,
      "outputs": []
    },
    {
      "cell_type": "code",
      "source": [
        "# Display the first 5 rows to check the data\n",
        "print(\"--- First 5 Rows ---\")\n",
        "print(df.head())"
      ],
      "metadata": {
        "colab": {
          "base_uri": "https://localhost:8080/"
        },
        "id": "9TOBbjVfV37h",
        "outputId": "1e5038d2-783f-4cf8-e11d-0a4125a69bb2"
      },
      "execution_count": 56,
      "outputs": [
        {
          "output_type": "stream",
          "name": "stdout",
          "text": [
            "--- First 5 Rows ---\n",
            "   PassengerId  Survived  Pclass  \\\n",
            "0            1         0       3   \n",
            "1            2         1       1   \n",
            "2            3         1       3   \n",
            "3            4         1       1   \n",
            "4            5         0       3   \n",
            "\n",
            "                                                Name     Sex   Age  SibSp  \\\n",
            "0                            Braund, Mr. Owen Harris    male  22.0      1   \n",
            "1  Cumings, Mrs. John Bradley (Florence Briggs Th...  female  38.0      1   \n",
            "2                             Heikkinen, Miss. Laina  female  26.0      0   \n",
            "3       Futrelle, Mrs. Jacques Heath (Lily May Peel)  female  35.0      1   \n",
            "4                           Allen, Mr. William Henry    male  35.0      0   \n",
            "\n",
            "   Parch            Ticket     Fare Cabin Embarked  \n",
            "0      0         A/5 21171   7.2500   NaN        S  \n",
            "1      0          PC 17599  71.2833   C85        C  \n",
            "2      0  STON/O2. 3101282   7.9250   NaN        S  \n",
            "3      0            113803  53.1000  C123        S  \n",
            "4      0            373450   8.0500   NaN        S  \n"
          ]
        }
      ]
    },
    {
      "cell_type": "code",
      "source": [
        "# Display a concise summary (column names, data types, non-null counts)\n",
        "print(\"--- Dataset Info ---\")\n",
        "df.info()"
      ],
      "metadata": {
        "colab": {
          "base_uri": "https://localhost:8080/"
        },
        "id": "yAkUHkIzYFZA",
        "outputId": "579e1000-0f3c-4605-ea5d-c79905c14c61"
      },
      "execution_count": 57,
      "outputs": [
        {
          "output_type": "stream",
          "name": "stdout",
          "text": [
            "--- Dataset Info ---\n",
            "<class 'pandas.core.frame.DataFrame'>\n",
            "RangeIndex: 891 entries, 0 to 890\n",
            "Data columns (total 12 columns):\n",
            " #   Column       Non-Null Count  Dtype  \n",
            "---  ------       --------------  -----  \n",
            " 0   PassengerId  891 non-null    int64  \n",
            " 1   Survived     891 non-null    int64  \n",
            " 2   Pclass       891 non-null    int64  \n",
            " 3   Name         891 non-null    object \n",
            " 4   Sex          891 non-null    object \n",
            " 5   Age          714 non-null    float64\n",
            " 6   SibSp        891 non-null    int64  \n",
            " 7   Parch        891 non-null    int64  \n",
            " 8   Ticket       891 non-null    object \n",
            " 9   Fare         891 non-null    float64\n",
            " 10  Cabin        204 non-null    object \n",
            " 11  Embarked     889 non-null    object \n",
            "dtypes: float64(2), int64(5), object(5)\n",
            "memory usage: 83.7+ KB\n"
          ]
        }
      ]
    },
    {
      "cell_type": "code",
      "source": [
        "# Display descriptive statistics for numerical columns (count, mean, std, min, max, etc.)\n",
        "print(\"--- Descriptive Statistics ---\")\n",
        "print(df.describe())"
      ],
      "metadata": {
        "colab": {
          "base_uri": "https://localhost:8080/"
        },
        "id": "8K2wZ2cBYH2p",
        "outputId": "18d29d00-af34-4f98-8a35-9081cc0a0263"
      },
      "execution_count": 58,
      "outputs": [
        {
          "output_type": "stream",
          "name": "stdout",
          "text": [
            "--- Descriptive Statistics ---\n",
            "       PassengerId    Survived      Pclass         Age       SibSp  \\\n",
            "count   891.000000  891.000000  891.000000  714.000000  891.000000   \n",
            "mean    446.000000    0.383838    2.308642   29.699118    0.523008   \n",
            "std     257.353842    0.486592    0.836071   14.526497    1.102743   \n",
            "min       1.000000    0.000000    1.000000    0.420000    0.000000   \n",
            "25%     223.500000    0.000000    2.000000   20.125000    0.000000   \n",
            "50%     446.000000    0.000000    3.000000   28.000000    0.000000   \n",
            "75%     668.500000    1.000000    3.000000   38.000000    1.000000   \n",
            "max     891.000000    1.000000    3.000000   80.000000    8.000000   \n",
            "\n",
            "            Parch        Fare  \n",
            "count  891.000000  891.000000  \n",
            "mean     0.381594   32.204208  \n",
            "std      0.806057   49.693429  \n",
            "min      0.000000    0.000000  \n",
            "25%      0.000000    7.910400  \n",
            "50%      0.000000   14.454200  \n",
            "75%      0.000000   31.000000  \n",
            "max      6.000000  512.329200  \n"
          ]
        }
      ]
    },
    {
      "cell_type": "code",
      "source": [
        "#It tells us about the how many null values are present in each column\n",
        "print(df.isnull().sum())"
      ],
      "metadata": {
        "colab": {
          "base_uri": "https://localhost:8080/"
        },
        "id": "y-_wpLc4YLYo",
        "outputId": "c71e2637-4766-4019-9991-59ae6b42f322"
      },
      "execution_count": 59,
      "outputs": [
        {
          "output_type": "stream",
          "name": "stdout",
          "text": [
            "PassengerId      0\n",
            "Survived         0\n",
            "Pclass           0\n",
            "Name             0\n",
            "Sex              0\n",
            "Age            177\n",
            "SibSp            0\n",
            "Parch            0\n",
            "Ticket           0\n",
            "Fare             0\n",
            "Cabin          687\n",
            "Embarked         2\n",
            "dtype: int64\n"
          ]
        }
      ]
    },
    {
      "cell_type": "code",
      "source": [
        "#Handling the null values for the 'Age' column\n",
        "age_mean=df['Age'].mean()\n",
        "df['Age']=df['Age'].fillna(age_mean)"
      ],
      "metadata": {
        "id": "-6ovi9YSZnvx"
      },
      "execution_count": 60,
      "outputs": []
    },
    {
      "cell_type": "code",
      "source": [
        "#we are finding the mode of the embarked column\n",
        "embarked_mode=df['Embarked'].mode()[0]\n",
        "df['Embarked'].fillna(embarked_mode)\n"
      ],
      "metadata": {
        "colab": {
          "base_uri": "https://localhost:8080/",
          "height": 458
        },
        "id": "4M2A3rNpagWB",
        "outputId": "64b1368c-1e13-49f0-eec2-5023320b0100"
      },
      "execution_count": 61,
      "outputs": [
        {
          "output_type": "execute_result",
          "data": {
            "text/plain": [
              "0      S\n",
              "1      C\n",
              "2      S\n",
              "3      S\n",
              "4      S\n",
              "      ..\n",
              "886    S\n",
              "887    S\n",
              "888    S\n",
              "889    C\n",
              "890    Q\n",
              "Name: Embarked, Length: 891, dtype: object"
            ],
            "text/html": [
              "<div>\n",
              "<style scoped>\n",
              "    .dataframe tbody tr th:only-of-type {\n",
              "        vertical-align: middle;\n",
              "    }\n",
              "\n",
              "    .dataframe tbody tr th {\n",
              "        vertical-align: top;\n",
              "    }\n",
              "\n",
              "    .dataframe thead th {\n",
              "        text-align: right;\n",
              "    }\n",
              "</style>\n",
              "<table border=\"1\" class=\"dataframe\">\n",
              "  <thead>\n",
              "    <tr style=\"text-align: right;\">\n",
              "      <th></th>\n",
              "      <th>Embarked</th>\n",
              "    </tr>\n",
              "  </thead>\n",
              "  <tbody>\n",
              "    <tr>\n",
              "      <th>0</th>\n",
              "      <td>S</td>\n",
              "    </tr>\n",
              "    <tr>\n",
              "      <th>1</th>\n",
              "      <td>C</td>\n",
              "    </tr>\n",
              "    <tr>\n",
              "      <th>2</th>\n",
              "      <td>S</td>\n",
              "    </tr>\n",
              "    <tr>\n",
              "      <th>3</th>\n",
              "      <td>S</td>\n",
              "    </tr>\n",
              "    <tr>\n",
              "      <th>4</th>\n",
              "      <td>S</td>\n",
              "    </tr>\n",
              "    <tr>\n",
              "      <th>...</th>\n",
              "      <td>...</td>\n",
              "    </tr>\n",
              "    <tr>\n",
              "      <th>886</th>\n",
              "      <td>S</td>\n",
              "    </tr>\n",
              "    <tr>\n",
              "      <th>887</th>\n",
              "      <td>S</td>\n",
              "    </tr>\n",
              "    <tr>\n",
              "      <th>888</th>\n",
              "      <td>S</td>\n",
              "    </tr>\n",
              "    <tr>\n",
              "      <th>889</th>\n",
              "      <td>C</td>\n",
              "    </tr>\n",
              "    <tr>\n",
              "      <th>890</th>\n",
              "      <td>Q</td>\n",
              "    </tr>\n",
              "  </tbody>\n",
              "</table>\n",
              "<p>891 rows × 1 columns</p>\n",
              "</div><br><label><b>dtype:</b> object</label>"
            ]
          },
          "metadata": {},
          "execution_count": 61
        }
      ]
    },
    {
      "cell_type": "code",
      "source": [
        "#we are dropping the colum of the cabin because it has many missing values\n",
        "df.drop('Cabin',axis=1,inplace=True)"
      ],
      "metadata": {
        "id": "4qYedsbaay6Q"
      },
      "execution_count": 62,
      "outputs": []
    },
    {
      "cell_type": "code",
      "source": [
        "print(df.isnull().sum())"
      ],
      "metadata": {
        "colab": {
          "base_uri": "https://localhost:8080/"
        },
        "id": "f34EoEUncRQY",
        "outputId": "9b27581f-6459-4502-a03f-950dc1cdf853"
      },
      "execution_count": 63,
      "outputs": [
        {
          "output_type": "stream",
          "name": "stdout",
          "text": [
            "PassengerId    0\n",
            "Survived       0\n",
            "Pclass         0\n",
            "Name           0\n",
            "Sex            0\n",
            "Age            0\n",
            "SibSp          0\n",
            "Parch          0\n",
            "Ticket         0\n",
            "Fare           0\n",
            "Embarked       2\n",
            "dtype: int64\n"
          ]
        }
      ]
    },
    {
      "cell_type": "code",
      "source": [
        "#We are encoding the 'Sex'\n",
        "df['Sex']=df['Sex'].map({'male':0,'female':1})"
      ],
      "metadata": {
        "id": "vjHUVPG8f-fK"
      },
      "execution_count": 64,
      "outputs": []
    },
    {
      "cell_type": "code",
      "source": [
        "df=pd.get_dummies(df,columns=['Embarked'],prefix='Embarked',drop_first=False)\n",
        "df_unscaled=df.copy()\n"
      ],
      "metadata": {
        "id": "f4EjR2xwggnY"
      },
      "execution_count": 65,
      "outputs": []
    },
    {
      "cell_type": "code",
      "source": [
        "df.drop(['PassengerId','Name','Ticket'],axis=1,inplace=True)\n",
        "print(\"Dropped 'PassengerId','Name' and 'Ticket' columns.\")\n"
      ],
      "metadata": {
        "colab": {
          "base_uri": "https://localhost:8080/"
        },
        "id": "KAzLPb5ig0hd",
        "outputId": "af74e22b-c850-4d55-de2c-13b6e7f54265"
      },
      "execution_count": 66,
      "outputs": [
        {
          "output_type": "stream",
          "name": "stdout",
          "text": [
            "Dropped 'PassengerId','Name' and 'Ticket' columns.\n"
          ]
        }
      ]
    },
    {
      "cell_type": "code",
      "source": [
        "#outlier visualization\n",
        "plt.figure(figsize=(14, 6))\n",
        "\n",
        "plt.subplot(1, 2, 1)\n",
        "sns.boxplot(y=df_unscaled['Age'])\n",
        "plt.title('Boxplot of Age (Before Outlier Removal)')\n",
        "plt.ylabel('Age')\n",
        "\n",
        "plt.subplot(1, 2, 2)\n",
        "sns.boxplot(y=df_unscaled['Fare'])\n",
        "plt.title('Boxplot of Fare (Before Outlier Removal)')\n",
        "plt.ylabel('Fare')\n",
        "\n",
        "plt.tight_layout()\n",
        "plt.savefig('outlier_visualization.png')\n",
        "print(\"   -> Boxplots saved to 'outlier_visualization.png'\")\n",
        "\n",
        "\n",
        "\n",
        "#Removing outliers using the IQR method\n",
        "print(f\"   -> Shape before removing outliers: {df.shape}\")\n",
        "\n",
        "# Calculate IQR for 'Age' and 'Fare' from the unscaled data\n",
        "Q1_age = df_unscaled['Age'].quantile(0.25)\n",
        "Q3_age = df_unscaled['Age'].quantile(0.75)\n",
        "IQR_age = Q3_age - Q1_age\n",
        "lower_bound_age = Q1_age - 1.5 * IQR_age\n",
        "upper_bound_age = Q3_age + 1.5 * IQR_age\n",
        "\n",
        "Q1_fare = df_unscaled['Fare'].quantile(0.25)\n",
        "Q3_fare = df_unscaled['Fare'].quantile(0.75)\n",
        "IQR_fare = Q3_fare - Q1_fare\n",
        "lower_bound_fare = Q1_fare - 1.5 * IQR_fare\n",
        "upper_bound_fare = Q3_fare + 1.5 * IQR_fare\n",
        "\n",
        "# Get the indices of rows that are NOT outliers\n",
        "non_outlier_indices = df_unscaled[\n",
        "    (df_unscaled['Age'] >= lower_bound_age) & (df_unscaled['Age'] <= upper_bound_age) &\n",
        "    (df_unscaled['Fare'] >= lower_bound_fare) & (df_unscaled['Fare'] <= upper_bound_fare)\n",
        "].index\n",
        "\n",
        "# Filter the main dataframe to keep only the non-outlier rows\n",
        "df = df.loc[non_outlier_indices]\n",
        "print(f\"   -> Shape after removing outliers:  {df.shape}\")\n",
        "print(f\"   -> Total rows removed: {len(df_unscaled) - len(df)}\")\n",
        "\n"
      ],
      "metadata": {
        "colab": {
          "base_uri": "https://localhost:8080/",
          "height": 344
        },
        "id": "QpkD2yWPhYtz",
        "outputId": "c88d4cda-2d80-4bb8-99e8-50f1277f358d"
      },
      "execution_count": 67,
      "outputs": [
        {
          "output_type": "stream",
          "name": "stdout",
          "text": [
            "   -> Boxplots saved to 'outlier_visualization.png'\n",
            "   -> Shape before removing outliers: (891, 10)\n",
            "   -> Shape after removing outliers:  (721, 10)\n",
            "   -> Total rows removed: 170\n"
          ]
        },
        {
          "output_type": "display_data",
          "data": {
            "text/plain": [
              "<Figure size 1400x600 with 2 Axes>"
            ],
            "image/png": "[encoded data removed]"
          },
          "metadata": {}
        }
      ]
    },
    {
      "cell_type": "code",
      "source": [
        "\n",
        "# Normalize/standardize the numerical features\n",
        "# Note: We do this AFTER removing outliers for a more accurate scaling\n",
        "features_to_scale = ['Age', 'Fare', 'Pclass', 'SibSp', 'Parch']\n",
        "scaler = StandardScaler()\n",
        "df[features_to_scale] = scaler.fit_transform(df[features_to_scale])\n",
        "print(\"\\n✅ Step 4: Numerical features standardized successfully!\")\n",
        "\n",
        "\n",
        "# --- Final Output ---\n",
        "# Save the fully processed and cleaned data to a new CSV file\n",
        "final_file_path = \"Titanic-Dataset-Final-Processed.csv\"\n",
        "df.to_csv(final_file_path, index=False)\n",
        "\n",
        "print(f\"\\n🎉 All steps complete! The final, processed data has been saved to '{final_file_path}'\")\n",
        "print(\"\\n--- First 5 Rows of the Final Dataset ---\")\n",
        "print(df.head())"
      ],
      "metadata": {
        "colab": {
          "base_uri": "https://localhost:8080/"
        },
        "id": "gL25cnVEkjol",
        "outputId": "c7fbd74b-0f6c-42ec-efc8-7ebf92710668"
      },
      "execution_count": 68,
      "outputs": [
        {
          "output_type": "stream",
          "name": "stdout",
          "text": [
            "\n",
            "✅ Step 4: Numerical features standardized successfully!\n",
            "\n",
            "🎉 All steps complete! The final, processed data has been saved to 'Titanic-Dataset-Final-Processed.csv'\n",
            "\n",
            "--- First 5 Rows of the Final Dataset ---\n",
            "   Survived    Pclass  Sex       Age     SibSp     Parch      Fare  \\\n",
            "0         0  0.685208    0 -0.645253  0.685904 -0.410103 -0.748128   \n",
            "2         1  0.685208    1 -0.246708 -0.485984 -0.410103 -0.698326   \n",
            "3         1 -2.105950    1  0.650019  0.685904 -0.410103  2.634730   \n",
            "4         0  0.685208    0  0.650019 -0.485984 -0.410103 -0.689103   \n",
            "5         0  0.685208    0  0.121859 -0.485984 -0.410103 -0.658978   \n",
            "\n",
            "   Embarked_C  Embarked_Q  Embarked_S  \n",
            "0       False       False        True  \n",
            "2       False       False        True  \n",
            "3       False       False        True  \n",
            "4       False       False        True  \n",
            "5       False        True       False  \n"
          ]
        }
      ]
    },
    {
      "cell_type": "code",
      "source": [],
      "metadata": {
        "id": "Mf-1szEimFDn"
      },
      "execution_count": 68,
      "outputs": []
    }
  ]
}